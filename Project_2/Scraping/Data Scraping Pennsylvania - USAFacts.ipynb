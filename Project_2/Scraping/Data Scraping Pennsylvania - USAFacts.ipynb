{
 "cells": [
  {
   "cell_type": "code",
   "execution_count": 2,
   "metadata": {},
   "outputs": [],
   "source": [
    "from bs4 import BeautifulSoup\n",
    "import requests\n",
    "from IPython.core.display import display, HTML\n",
    "import csv"
   ]
  },
  {
   "cell_type": "code",
   "execution_count": 3,
   "metadata": {},
   "outputs": [],
   "source": [
    "url = 'https://usafacts.org/visualizations/coronavirus-covid-19-spread-map/'\n",
    "\n",
    "response = requests.get(url)\n",
    "\n",
    "response.status_code\n",
    "\n",
    "page = response.text"
   ]
  },
  {
   "cell_type": "code",
   "execution_count": 4,
   "metadata": {},
   "outputs": [],
   "source": [
    "soup = BeautifulSoup(page, \"lxml\")"
   ]
  },
  {
   "cell_type": "code",
   "execution_count": 5,
   "metadata": {},
   "outputs": [],
   "source": [
    "script_soup = [row for row in soup.find_all('script')]\n",
    "cases_dict = script_soup[8]"
   ]
  },
  {
   "cell_type": "code",
   "execution_count": 31,
   "metadata": {},
   "outputs": [
    {
     "data": {
      "text/plain": [
       "'{\"stateFips\":\"42\",\"countyFips\":\"001\",\"statePopulation\":12801989,\"countyPopulation\":103009,\"confirmed\":864,\"confirmedPopulation\":838.7616616023843,\"deaths\":26},{\"stateFips\":\"42\",\"countyFips\":\"003\",\"statePopulation\":12801989,\"countyPopulation\":1216045,\"confirmed\":12527,\"confirmedPopulation\":1030.1427989918136,\"deaths\":363},{\"stateFips\":\"42\",\"countyFips\":\"005\",\"statePopulation\":12801989,\"countyPopulation\":64735,\"confirmed\":456,\"confirmedPopulation\":704.4102880976288,\"deaths\":18},{\"stateFips\":\"42\",\"countyFips\":\"007\",\"statePopulation\":12801989,\"countyPopulation\":163929,\"confirmed\":1953,\"confirmedPopulation\":1191.3694343282764,\"deaths\":127},{\"stateFips\":\"42\",\"countyFips\":\"009\",\"statePopulation\":12801989,\"countyPopulation\":47888,\"confirmed\":253,\"confirmedPopulation\":528.3160708319413,\"deaths\":6},{\"stateFips\":\"42\",\"countyFips\":\"011\",\"statePopulation\":12801989,\"countyPopulation\":421164,\"confirmed\":7258,\"confirmedPopulation\":1723.319182076341,\"deaths\":397},{\"stateFips\":\"42\",\"countyFips\":\"013\",\"statePopulation\":12801989,\"countyPopulation\":121829,\"confirmed\":741,\"confirmedPopulation\":608.2295676727216,\"deaths\":19},{\"stateFips\":\"42\",\"countyFips\":\"015\",\"statePopulation\":12801989,\"countyPopulation\":60323,\"confirmed\":183,\"confirmedPopulation\":303.3668749896391,\"deaths\":5},{\"stateFips\":\"42\",\"countyFips\":\"017\",\"statePopulation\":12801989,\"countyPopulation\":628270,\"confirmed\":8984,\"confirmedPopulation\":1429.9584573511388,\"deaths\":615},{\"stateFips\":\"42\",\"countyFips\":\"019\",\"statePopulation\":12801989,\"countyPopulation\":187853,\"confirmed\":1101,\"confirmedPopulation\":586.0965755138326,\"deaths\":25},{\"stateFips\":\"42\",\"countyFips\":\"021\",\"statePopulation\":12801989,\"countyPopulation\":130192,\"confirmed\":639,\"confirmedPopulation\":490.8135676539265,\"deaths\":7},{\"stateFips\":\"42\",\"countyFips\":\"023\",\"statePopulation\":12801989,\"countyPopulation\":4447,\"confirmed\":8,\"confirmedPopulation\":179.89655947829996,\"deaths\":0},{\"stateFips\":\"42\",\"countyFips\":\"025\",\"statePopulation\":12801989,\"countyPopulation\":64182,\"confirmed\":473,\"confirmedPopulation\":736.9667508024057,\"deaths\":28},{\"stateFips\":\"42\",\"countyFips\":\"027\",\"statePopulation\":12801989,\"countyPopulation\":162385,\"confirmed\":2854,\"confirmedPopulation\":1757.551497983188,\"deaths\":11},{\"stateFips\":\"42\",\"countyFips\":\"029\",\"statePopulation\":12801989,\"countyPopulation\":524989,\"confirmed\":6998,\"confirmedPopulation\":1332.9803100636395,\"deaths\":367},{\"stateFips\":\"42\",\"countyFips\":\"031\",\"statePopulation\":12801989,\"countyPopulation\":38438,\"confirmed\":130,\"confirmedPopulation\":338.2069826733961,\"deaths\":3},{\"stateFips\":\"42\",\"countyFips\":\"033\",\"statePopulation\":12801989,\"countyPopulation\":79255,\"confirmed\":339,\"confirmedPopulation\":427.7332660399975,\"deaths\":6},{\"stateFips\":\"42\",\"countyFips\":\"035\",\"statePopulation\":12801989,\"countyPopulation\":38632,\"confirmed\":209,\"confirmedPopulation\":541.002277904328,\"deaths\":6},{\"stateFips\":\"42\",\"countyFips\":\"037\",\"statePopulation\":12801989,\"countyPopulation\":64964,\"confirmed\":933,\"confirmedPopulation\":1436.1800381749892,\"deaths\":35},{\"stateFips\":\"42\",\"countyFips\":\"039\",\"statePopulation\":12801989,\"countyPopulation\":84629,\"confirmed\":321,\"confirmedPopulation\":379.3026031265878,\"deaths\":3},{\"stateFips\":\"42\",\"countyFips\":\"041\",\"statePopulation\":12801989,\"countyPopulation\":253370,\"confirmed\":1945,\"confirmedPopulation\":767.652050361132,\"deaths\":77},{\"stateFips\":\"42\",\"countyFips\":\"043\",\"statePopulation\":12801989,\"countyPopulation\":278299,\"confirmed\":3897,\"confirmedPopulation\":1400.2924911695695,\"deaths\":182},{\"stateFips\":\"42\",\"countyFips\":\"045\",\"statePopulation\":12801989,\"countyPopulation\":566747,\"confirmed\":11621,\"confirmedPopulation\":2050.4740210358414,\"deaths\":758},{\"stateFips\":\"42\",\"countyFips\":\"047\",\"statePopulation\":12801989,\"countyPopulation\":29910,\"confirmed\":76,\"confirmedPopulation\":254.0956201939151,\"deaths\":2},{\"stateFips\":\"42\",\"countyFips\":\"049\",\"statePopulation\":12801989,\"countyPopulation\":269728,\"confirmed\":1603,\"confirmedPopulation\":594.3024083521177,\"deaths\":39},{\"stateFips\":\"42\",\"countyFips\":\"051\",\"statePopulation\":12801989,\"countyPopulation\":129274,\"confirmed\":822,\"confirmedPopulation\":635.8587186905332,\"deaths\":7},{\"stateFips\":\"42\",\"countyFips\":\"053\",\"statePopulation\":12801989,\"countyPopulation\":7247,\"confirmed\":15,\"confirmedPopulation\":206.98219953084032,\"deaths\":0},{\"stateFips\":\"42\",\"countyFips\":\"055\",\"statePopulation\":12801989,\"countyPopulation\":155027,\"confirmed\":1807,\"confirmedPopulation\":1165.6034110187256,\"deaths\":51},{\"stateFips\":\"42\",\"countyFips\":\"057\",\"statePopulation\":12801989,\"countyPopulation\":14530,\"confirmed\":52,\"confirmedPopulation\":357.8802477632484,\"deaths\":2},{\"stateFips\":\"42\",\"countyFips\":\"059\",\"statePopulation\":12801989,\"countyPopulation\":36233,\"confirmed\":191,\"confirmedPopulation\":527.1437639720697,\"deaths\":1},{\"stateFips\":\"42\",\"countyFips\":\"061\",\"statePopulation\":12801989,\"countyPopulation\":45144,\"confirmed\":431,\"confirmedPopulation\":954.722665248981,\"deaths\":6},{\"stateFips\":\"42\",\"countyFips\":\"063\",\"statePopulation\":12801989,\"countyPopulation\":84073,\"confirmed\":754,\"confirmedPopulation\":896.8396512554566,\"deaths\":12},{\"stateFips\":\"42\",\"countyFips\":\"065\",\"statePopulation\":12801989,\"countyPopulation\":43425,\"confirmed\":117,\"confirmedPopulation\":269.4300518134715,\"deaths\":3},{\"stateFips\":\"42\",\"countyFips\":\"067\",\"statePopulation\":12801989,\"countyPopulation\":24763,\"confirmed\":195,\"confirmedPopulation\":787.4651698097969,\"deaths\":7},{\"stateFips\":\"42\",\"countyFips\":\"069\",\"statePopulation\":12801989,\"countyPopulation\":209674,\"confirmed\":2656,\"confirmedPopulation\":1266.728349723857,\"deaths\":216},{\"stateFips\":\"42\",\"countyFips\":\"071\",\"statePopulation\":12801989,\"countyPopulation\":545724,\"confirmed\":8102,\"confirmedPopulation\":1484.633257837295,\"deaths\":459},{\"stateFips\":\"42\",\"countyFips\":\"073\",\"statePopulation\":12801989,\"countyPopulation\":85512,\"confirmed\":548,\"confirmedPopulation\":640.8457292543736,\"deaths\":22},{\"stateFips\":\"42\",\"countyFips\":\"075\",\"statePopulation\":12801989,\"countyPopulation\":141793,\"confirmed\":2112,\"confirmedPopulation\":1489.4952501181301,\"deaths\":60},{\"stateFips\":\"42\",\"countyFips\":\"077\",\"statePopulation\":12801989,\"countyPopulation\":369318,\"confirmed\":5731,\"confirmedPopulation\":1551.779225491311,\"deaths\":354},{\"stateFips\":\"42\",\"countyFips\":\"079\",\"statePopulation\":12801989,\"countyPopulation\":317417,\"confirmed\":4157,\"confirmedPopulation\":1309.6336995182992,\"deaths\":190},{\"stateFips\":\"42\",\"countyFips\":\"081\",\"statePopulation\":12801989,\"countyPopulation\":113299,\"confirmed\":724,\"confirmedPopulation\":639.0171140080672,\"deaths\":26},{\"stateFips\":\"42\",\"countyFips\":\"083\",\"statePopulation\":12801989,\"countyPopulation\":40625,\"confirmed\":60,\"confirmedPopulation\":147.69230769230768,\"deaths\":2},{\"stateFips\":\"42\",\"countyFips\":\"085\",\"statePopulation\":12801989,\"countyPopulation\":109424,\"confirmed\":757,\"confirmedPopulation\":691.8043573621874,\"deaths\":20},{\"stateFips\":\"42\",\"countyFips\":\"087\",\"statePopulation\":12801989,\"countyPopulation\":46138,\"confirmed\":232,\"confirmedPopulation\":502.8393081624691,\"deaths\":2},{\"stateFips\":\"42\",\"countyFips\":\"089\",\"statePopulation\":12801989,\"countyPopulation\":170271,\"confirmed\":1816,\"confirmedPopulation\":1066.5351116749182,\"deaths\":134},{\"stateFips\":\"42\",\"countyFips\":\"091\",\"statePopulation\":12801989,\"countyPopulation\":830915,\"confirmed\":12397,\"confirmedPopulation\":1491.9696960579602,\"deaths\":883},{\"stateFips\":\"42\",\"countyFips\":\"093\",\"statePopulation\":12801989,\"countyPopulation\":18230,\"confirmed\":200,\"confirmedPopulation\":1097.0927043335162,\"deaths\":5},{\"stateFips\":\"42\",\"countyFips\":\"095\",\"statePopulation\":12801989,\"countyPopulation\":305285,\"confirmed\":4554,\"confirmedPopulation\":1491.7208510080745,\"deaths\":305},{\"stateFips\":\"42\",\"countyFips\":\"097\",\"statePopulation\":12801989,\"countyPopulation\":90843,\"confirmed\":1098,\"confirmedPopulation\":1208.6787094217498,\"deaths\":69},{\"stateFips\":\"42\",\"countyFips\":\"099\",\"statePopulation\":12801989,\"countyPopulation\":46272,\"confirmed\":239,\"confirmedPopulation\":516.5110650069156,\"deaths\":6},{\"stateFips\":\"42\",\"countyFips\":\"101\",\"statePopulation\":12801989,\"countyPopulation\":1584064,\"confirmed\":32590,\"confirmedPopulation\":2057.3663690355943,\"deaths\":1836},{\"stateFips\":\"42\",\"countyFips\":\"103\",\"statePopulation\":12801989,\"countyPopulation\":55809,\"confirmed\":589,\"confirmedPopulation\":1055.385332114892,\"deaths\":22},{\"stateFips\":\"42\",\"countyFips\":\"105\",\"statePopulation\":12801989,\"countyPopulation\":16526,\"confirmed\":30,\"confirmedPopulation\":181.53213118722016,\"deaths\":0},{\"stateFips\":\"42\",\"countyFips\":\"107\",\"statePopulation\":12801989,\"countyPopulation\":141359,\"confirmed\":1224,\"confirmedPopulation\":865.8804886848379,\"deaths\":55},{\"stateFips\":\"42\",\"countyFips\":\"109\",\"statePopulation\":12801989,\"countyPopulation\":40372,\"confirmed\":366,\"confirmedPopulation\":906.5689091449519,\"deaths\":8},{\"stateFips\":\"42\",\"countyFips\":\"111\",\"statePopulation\":12801989,\"countyPopulation\":73447,\"confirmed\":231,\"confirmedPopulation\":314.5125056162948,\"deaths\":3},{\"stateFips\":\"42\",\"countyFips\":\"113\",\"statePopulation\":12801989,\"countyPopulation\":6066,\"confirmed\":13,\"confirmedPopulation\":214.30926475436863,\"deaths\":0},{\"stateFips\":\"42\",\"countyFips\":\"115\",\"statePopulation\":12801989,\"countyPopulation\":40328,\"confirmed\":300,\"confirmedPopulation\":743.9000198373338,\"deaths\":28},{\"stateFips\":\"42\",\"countyFips\":\"117\",\"statePopulation\":12801989,\"countyPopulation\":40591,\"confirmed\":83,\"confirmedPopulation\":204.47882535537434,\"deaths\":3},{\"stateFips\":\"42\",\"countyFips\":\"119\",\"statePopulation\":12801989,\"countyPopulation\":44923,\"confirmed\":490,\"confirmedPopulation\":1090.7552923891992,\"deaths\":6},{\"stateFips\":\"42\",\"countyFips\":\"121\",\"statePopulation\":12801989,\"countyPopulation\":50668,\"confirmed\":95,\"confirmedPopulation\":187.4950659193179,\"deaths\":1},{\"stateFips\":\"42\",\"countyFips\":\"123\",\"statePopulation\":12801989,\"countyPopulation\":39191,\"confirmed\":44,\"confirmedPopulation\":112.27067438952821,\"deaths\":1},{\"stateFips\":\"42\",\"countyFips\":\"125\",\"statePopulation\":12801989,\"countyPopulation\":206865,\"confirmed\":1403,\"confirmedPopulation\":678.2200952311895,\"deaths\":30},{\"stateFips\":\"42\",\"countyFips\":\"127\",\"statePopulation\":12801989,\"countyPopulation\":51361,\"confirmed\":253,\"confirmedPopulation\":492.59165514690136,\"deaths\":11},{\"stateFips\":\"42\",\"countyFips\":\"129\",\"statePopulation\":12801989,\"countyPopulation\":348899,\"confirmed\":2353,\"confirmedPopulation\":674.4072066701252,\"deaths\":56},{\"stateFips\":\"42\",\"countyFips\":\"131\",\"statePopulation\":12801989,\"countyPopulation\":26794,\"confirmed\":79,\"confirmedPopulation\":294.84212883481376,\"deaths\":8},{\"stateFips\":\"42\",\"countyFips\":\"133\",\"statePopulation\":12801989,\"countyPopulation\":449058,\"confirmed\":5008,\"confirmedPopulation\":1115.2234232549026,\"deaths\":164}'"
      ]
     },
     "execution_count": 31,
     "metadata": {},
     "output_type": "execute_result"
    }
   ],
   "source": [
    "county_stats = script_soup[8].contents[0][358506:369151]\n",
    "county_stats"
   ]
  },
  {
   "cell_type": "code",
   "execution_count": 32,
   "metadata": {},
   "outputs": [],
   "source": [
    "county_stats = county_stats.replace(\"}\", \"\")\n",
    "county_stats = county_stats.replace(\"{\", \"\")\n",
    "county_list = []\n",
    "county_list = county_stats.split(',')\n"
   ]
  },
  {
   "cell_type": "code",
   "execution_count": 33,
   "metadata": {},
   "outputs": [],
   "source": [
    "csv_table = []\n",
    "for i in range(67):\n",
    "    csv_nested = []\n",
    "    csv_nested = county_list[i*7:i*7+7]\n",
    "    csv_table.append(csv_nested)\n"
   ]
  },
  {
   "cell_type": "code",
   "execution_count": 34,
   "metadata": {},
   "outputs": [],
   "source": [
    "with open('most_updated.csv', 'w') as csvfile:\n",
    "    csvwriter = csv.writer(csvfile, delimiter=',')\n",
    "    csvwriter.writerows(csv_table)"
   ]
  },
  {
   "cell_type": "code",
   "execution_count": null,
   "metadata": {},
   "outputs": [],
   "source": []
  }
 ],
 "metadata": {
  "kernelspec": {
   "display_name": "Python 3",
   "language": "python",
   "name": "python3"
  },
  "language_info": {
   "codemirror_mode": {
    "name": "ipython",
    "version": 3
   },
   "file_extension": ".py",
   "mimetype": "text/x-python",
   "name": "python",
   "nbconvert_exporter": "python",
   "pygments_lexer": "ipython3",
   "version": "3.7.7"
  }
 },
 "nbformat": 4,
 "nbformat_minor": 4
}
