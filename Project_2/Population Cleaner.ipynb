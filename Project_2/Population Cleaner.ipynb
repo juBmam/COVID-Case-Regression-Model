{
 "cells": [
  {
   "cell_type": "code",
   "execution_count": 106,
   "metadata": {},
   "outputs": [],
   "source": [
    "import pandas as pd\n",
    "import csv\n",
    "import re"
   ]
  },
  {
   "cell_type": "code",
   "execution_count": 114,
   "metadata": {},
   "outputs": [],
   "source": [
    "df = pd.read_csv('/Users/jubmam/Desktop/Metis/Project_2/Population.csv')"
   ]
  },
  {
   "cell_type": "code",
   "execution_count": 115,
   "metadata": {},
   "outputs": [],
   "source": [
    "df = df.drop(['Unnamed: 1', 'Unnamed: 2', 'Unnamed: 3', 'Unnamed: 4', 'Unnamed: 5', 'Unnamed: 6', 'Unnamed: 7', 'Unnamed: 8', 'Unnamed: 9', 'Unnamed: 10', 'Unnamed: 11'], axis = 1)"
   ]
  },
  {
   "cell_type": "code",
   "execution_count": 116,
   "metadata": {},
   "outputs": [],
   "source": [
    "df = df.rename(columns={'table with row headers in column A and column headers in rows 3 through 4 (leading dots indicate sub-parts)': 'County', 'Unnamed: 12': 'Population'})"
   ]
  },
  {
   "cell_type": "code",
   "execution_count": 117,
   "metadata": {},
   "outputs": [],
   "source": [
    "df = df.iloc[4:3146]\n",
    "def statemaker(x):\n",
    "    if 'California' in x:\n",
    "        return 'CA'\n",
    "    elif 'Pennsylvania' in x:\n",
    "        return 'PA'\n",
    "    elif 'Texas' in x:\n",
    "        return 'TX'\n",
    "    elif 'Georgia' in x:\n",
    "        return 'GA'\n",
    "    elif 'West Virginia' in x:\n",
    "        return 0\n",
    "    elif 'Texas County' in x:\n",
    "        return 0\n",
    "    elif 'Virginia' in x:\n",
    "        return 'VA'\n",
    "    elif 'Illinois' in x:\n",
    "        return 'IL'\n",
    "    elif 'Kansas' in x:\n",
    "        return 'KS'\n",
    "    elif 'Kentucky' in x:\n",
    "        return 'KY'\n",
    "    else:    \n",
    "        return 0\n",
    "    \n",
    "df['State'] = df['County'].apply(statemaker)"
   ]
  },
  {
   "cell_type": "code",
   "execution_count": 118,
   "metadata": {},
   "outputs": [],
   "source": [
    "mask = (df['State'] != 0)\n",
    "df = df[mask]"
   ]
  },
  {
   "cell_type": "code",
   "execution_count": 119,
   "metadata": {},
   "outputs": [],
   "source": [
    "df = df.sort_values(by=['State','County'], ascending= True)\n",
    "df = df.drop([1593, 2204])\n",
    "\n",
    "\n",
    "def toint(x):\n",
    "    x = re.sub(',', '', x)\n",
    "    return int(x)\n",
    "\n",
    "df['Population'] = df['Population'].apply(toint)\n",
    "df = df.drop(['State', 'County'], axis = 1)"
   ]
  },
  {
   "cell_type": "code",
   "execution_count": 120,
   "metadata": {},
   "outputs": [],
   "source": [
    "df.to_csv(r'PopulationClean.csv')"
   ]
  },
  {
   "cell_type": "code",
   "execution_count": null,
   "metadata": {},
   "outputs": [],
   "source": []
  }
 ],
 "metadata": {
  "kernelspec": {
   "display_name": "Python 3",
   "language": "python",
   "name": "python3"
  },
  "language_info": {
   "codemirror_mode": {
    "name": "ipython",
    "version": 3
   },
   "file_extension": ".py",
   "mimetype": "text/x-python",
   "name": "python",
   "nbconvert_exporter": "python",
   "pygments_lexer": "ipython3",
   "version": "3.8.5"
  }
 },
 "nbformat": 4,
 "nbformat_minor": 4
}
