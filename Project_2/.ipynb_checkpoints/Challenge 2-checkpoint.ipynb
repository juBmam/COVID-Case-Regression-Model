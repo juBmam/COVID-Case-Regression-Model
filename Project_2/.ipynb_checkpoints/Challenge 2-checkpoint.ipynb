{
 "cells": [
  {
   "cell_type": "code",
   "execution_count": 2,
   "metadata": {},
   "outputs": [],
   "source": [
    "import matplotlib.pyplot as plt\n",
    "import numpy as np\n",
    "import pandas as pd\n",
    "import seaborn as sns\n",
    "from sklearn import datasets"
   ]
  },
  {
   "cell_type": "code",
   "execution_count": 38,
   "metadata": {},
   "outputs": [],
   "source": [
    "df = pd.read_csv('2013_movies-Copy1.csv')"
   ]
  },
  {
   "cell_type": "code",
   "execution_count": 39,
   "metadata": {},
   "outputs": [
    {
     "data": {
      "text/html": [
       "<div>\n",
       "<style scoped>\n",
       "    .dataframe tbody tr th:only-of-type {\n",
       "        vertical-align: middle;\n",
       "    }\n",
       "\n",
       "    .dataframe tbody tr th {\n",
       "        vertical-align: top;\n",
       "    }\n",
       "\n",
       "    .dataframe thead th {\n",
       "        text-align: right;\n",
       "    }\n",
       "</style>\n",
       "<table border=\"1\" class=\"dataframe\">\n",
       "  <thead>\n",
       "    <tr style=\"text-align: right;\">\n",
       "      <th></th>\n",
       "      <th>Title</th>\n",
       "      <th>Budget</th>\n",
       "      <th>DomesticTotalGross</th>\n",
       "      <th>Director</th>\n",
       "      <th>Rating</th>\n",
       "      <th>Runtime</th>\n",
       "      <th>ReleaseDate</th>\n",
       "    </tr>\n",
       "  </thead>\n",
       "  <tbody>\n",
       "    <tr>\n",
       "      <th>0</th>\n",
       "      <td>The Hunger Games: Catching Fire</td>\n",
       "      <td>130000000.0</td>\n",
       "      <td>424668047</td>\n",
       "      <td>Francis Lawrence</td>\n",
       "      <td>PG-13</td>\n",
       "      <td>146</td>\n",
       "      <td>2013-11-22 00:00:00</td>\n",
       "    </tr>\n",
       "    <tr>\n",
       "      <th>1</th>\n",
       "      <td>Iron Man 3</td>\n",
       "      <td>200000000.0</td>\n",
       "      <td>409013994</td>\n",
       "      <td>Shane Black</td>\n",
       "      <td>PG-13</td>\n",
       "      <td>129</td>\n",
       "      <td>2013-05-03 00:00:00</td>\n",
       "    </tr>\n",
       "    <tr>\n",
       "      <th>2</th>\n",
       "      <td>Frozen</td>\n",
       "      <td>150000000.0</td>\n",
       "      <td>400738009</td>\n",
       "      <td>Chris BuckJennifer Lee</td>\n",
       "      <td>PG</td>\n",
       "      <td>108</td>\n",
       "      <td>2013-11-22 00:00:00</td>\n",
       "    </tr>\n",
       "    <tr>\n",
       "      <th>3</th>\n",
       "      <td>Despicable Me 2</td>\n",
       "      <td>76000000.0</td>\n",
       "      <td>368061265</td>\n",
       "      <td>Pierre CoffinChris Renaud</td>\n",
       "      <td>PG</td>\n",
       "      <td>98</td>\n",
       "      <td>2013-07-03 00:00:00</td>\n",
       "    </tr>\n",
       "    <tr>\n",
       "      <th>4</th>\n",
       "      <td>Man of Steel</td>\n",
       "      <td>225000000.0</td>\n",
       "      <td>291045518</td>\n",
       "      <td>Zack Snyder</td>\n",
       "      <td>PG-13</td>\n",
       "      <td>143</td>\n",
       "      <td>2013-06-14 00:00:00</td>\n",
       "    </tr>\n",
       "    <tr>\n",
       "      <th>...</th>\n",
       "      <td>...</td>\n",
       "      <td>...</td>\n",
       "      <td>...</td>\n",
       "      <td>...</td>\n",
       "      <td>...</td>\n",
       "      <td>...</td>\n",
       "      <td>...</td>\n",
       "    </tr>\n",
       "    <tr>\n",
       "      <th>95</th>\n",
       "      <td>Rush</td>\n",
       "      <td>38000000.0</td>\n",
       "      <td>26947624</td>\n",
       "      <td>Ron Howard</td>\n",
       "      <td>R</td>\n",
       "      <td>123</td>\n",
       "      <td>2013-09-20 00:00:00</td>\n",
       "    </tr>\n",
       "    <tr>\n",
       "      <th>96</th>\n",
       "      <td>The Host</td>\n",
       "      <td>40000000.0</td>\n",
       "      <td>26627201</td>\n",
       "      <td>Andrew Niccol</td>\n",
       "      <td>PG-13</td>\n",
       "      <td>125</td>\n",
       "      <td>2013-03-29 00:00:00</td>\n",
       "    </tr>\n",
       "    <tr>\n",
       "      <th>97</th>\n",
       "      <td>The World's End</td>\n",
       "      <td>20000000.0</td>\n",
       "      <td>26004851</td>\n",
       "      <td>Edgar Wright</td>\n",
       "      <td>R</td>\n",
       "      <td>109</td>\n",
       "      <td>2013-08-23 00:00:00</td>\n",
       "    </tr>\n",
       "    <tr>\n",
       "      <th>98</th>\n",
       "      <td>21 and Over</td>\n",
       "      <td>13000000.0</td>\n",
       "      <td>25682380</td>\n",
       "      <td>Jon LucasScott Moore</td>\n",
       "      <td>R</td>\n",
       "      <td>93</td>\n",
       "      <td>2013-03-01 00:00:00</td>\n",
       "    </tr>\n",
       "    <tr>\n",
       "      <th>99</th>\n",
       "      <td>Her</td>\n",
       "      <td>23000000.0</td>\n",
       "      <td>25568251</td>\n",
       "      <td>Spike Jonze</td>\n",
       "      <td>R</td>\n",
       "      <td>120</td>\n",
       "      <td>2013-12-18 00:00:00</td>\n",
       "    </tr>\n",
       "  </tbody>\n",
       "</table>\n",
       "<p>100 rows × 7 columns</p>\n",
       "</div>"
      ],
      "text/plain": [
       "                              Title       Budget  DomesticTotalGross  \\\n",
       "0   The Hunger Games: Catching Fire  130000000.0           424668047   \n",
       "1                        Iron Man 3  200000000.0           409013994   \n",
       "2                            Frozen  150000000.0           400738009   \n",
       "3                   Despicable Me 2   76000000.0           368061265   \n",
       "4                      Man of Steel  225000000.0           291045518   \n",
       "..                              ...          ...                 ...   \n",
       "95                             Rush   38000000.0            26947624   \n",
       "96                         The Host   40000000.0            26627201   \n",
       "97                  The World's End   20000000.0            26004851   \n",
       "98                      21 and Over   13000000.0            25682380   \n",
       "99                              Her   23000000.0            25568251   \n",
       "\n",
       "                     Director Rating  Runtime          ReleaseDate  \n",
       "0            Francis Lawrence  PG-13      146  2013-11-22 00:00:00  \n",
       "1                 Shane Black  PG-13      129  2013-05-03 00:00:00  \n",
       "2      Chris BuckJennifer Lee     PG      108  2013-11-22 00:00:00  \n",
       "3   Pierre CoffinChris Renaud     PG       98  2013-07-03 00:00:00  \n",
       "4                 Zack Snyder  PG-13      143  2013-06-14 00:00:00  \n",
       "..                        ...    ...      ...                  ...  \n",
       "95                 Ron Howard      R      123  2013-09-20 00:00:00  \n",
       "96              Andrew Niccol  PG-13      125  2013-03-29 00:00:00  \n",
       "97               Edgar Wright      R      109  2013-08-23 00:00:00  \n",
       "98       Jon LucasScott Moore      R       93  2013-03-01 00:00:00  \n",
       "99                Spike Jonze      R      120  2013-12-18 00:00:00  \n",
       "\n",
       "[100 rows x 7 columns]"
      ]
     },
     "execution_count": 39,
     "metadata": {},
     "output_type": "execute_result"
    }
   ],
   "source": [
    "df"
   ]
  },
  {
   "cell_type": "markdown",
   "metadata": {},
   "source": [
    "### Challenge 1"
   ]
  },
  {
   "cell_type": "code",
   "execution_count": 40,
   "metadata": {},
   "outputs": [
    {
     "data": {
      "text/plain": [
       "(array([734869., 734928., 734989., 735050., 735112., 735173., 735234.]),\n",
       " <a list of 7 Text major ticklabel objects>)"
      ]
     },
     "execution_count": 40,
     "metadata": {},
     "output_type": "execute_result"
    },
    {
     "data": {
      "image/png": "[encoded data removed]",
      "text/plain": [
       "<Figure size 432x288 with 1 Axes>"
      ]
     },
     "metadata": {
      "needs_background": "light"
     },
     "output_type": "display_data"
    }
   ],
   "source": [
    "df['ReleaseDate'] = pd.to_datetime(df['ReleaseDate'])\n",
    "df['ReleaseDate']\n",
    "sns.scatterplot(data=df, x = 'ReleaseDate', y = 'DomesticTotalGross')\n",
    "plt.xlim(734869,735234)\n",
    "plt.xticks(rotation=30)"
   ]
  },
  {
   "cell_type": "markdown",
   "metadata": {},
   "source": [
    "### Challenge 2"
   ]
  },
  {
   "cell_type": "code",
   "execution_count": 26,
   "metadata": {},
   "outputs": [
    {
     "data": {
      "text/plain": [
       "<matplotlib.axes._subplots.AxesSubplot at 0x7f8cf03bc450>"
      ]
     },
     "execution_count": 26,
     "metadata": {},
     "output_type": "execute_result"
    },
    {
     "data": {
      "image/png": "[encoded data removed]",
      "text/plain": [
       "<Figure size 432x288 with 1 Axes>"
      ]
     },
     "metadata": {
      "needs_background": "light"
     },
     "output_type": "display_data"
    }
   ],
   "source": [
    "sns.scatterplot(data=df, x = 'Runtime', y = 'DomesticTotalGross')"
   ]
  },
  {
   "cell_type": "markdown",
   "metadata": {},
   "source": [
    "### Challenge 3"
   ]
  },
  {
   "cell_type": "code",
   "execution_count": 27,
   "metadata": {},
   "outputs": [
    {
     "data": {
      "text/html": [
       "<div>\n",
       "<style scoped>\n",
       "    .dataframe tbody tr th:only-of-type {\n",
       "        vertical-align: middle;\n",
       "    }\n",
       "\n",
       "    .dataframe tbody tr th {\n",
       "        vertical-align: top;\n",
       "    }\n",
       "\n",
       "    .dataframe thead th {\n",
       "        text-align: right;\n",
       "    }\n",
       "</style>\n",
       "<table border=\"1\" class=\"dataframe\">\n",
       "  <thead>\n",
       "    <tr style=\"text-align: right;\">\n",
       "      <th></th>\n",
       "      <th>DomesticTotalGross</th>\n",
       "      <th>Runtime</th>\n",
       "    </tr>\n",
       "    <tr>\n",
       "      <th>Rating</th>\n",
       "      <th></th>\n",
       "      <th></th>\n",
       "    </tr>\n",
       "  </thead>\n",
       "  <tbody>\n",
       "    <tr>\n",
       "      <th>G</th>\n",
       "      <td>2.684928e+08</td>\n",
       "      <td>107.000000</td>\n",
       "    </tr>\n",
       "    <tr>\n",
       "      <th>PG</th>\n",
       "      <td>1.311357e+08</td>\n",
       "      <td>99.933333</td>\n",
       "    </tr>\n",
       "    <tr>\n",
       "      <th>PG-13</th>\n",
       "      <td>1.114498e+08</td>\n",
       "      <td>117.510638</td>\n",
       "    </tr>\n",
       "    <tr>\n",
       "      <th>R</th>\n",
       "      <td>6.989243e+07</td>\n",
       "      <td>110.729730</td>\n",
       "    </tr>\n",
       "  </tbody>\n",
       "</table>\n",
       "</div>"
      ],
      "text/plain": [
       "        DomesticTotalGross     Runtime\n",
       "Rating                                \n",
       "G             2.684928e+08  107.000000\n",
       "PG            1.311357e+08   99.933333\n",
       "PG-13         1.114498e+08  117.510638\n",
       "R             6.989243e+07  110.729730"
      ]
     },
     "execution_count": 27,
     "metadata": {},
     "output_type": "execute_result"
    }
   ],
   "source": [
    "grouped = df.groupby('Rating')[['DomesticTotalGross', 'Runtime']].mean()\n",
    "grouped"
   ]
  },
  {
   "cell_type": "markdown",
   "metadata": {},
   "source": [
    "### Challenge 4"
   ]
  },
  {
   "cell_type": "code",
   "execution_count": 28,
   "metadata": {},
   "outputs": [],
   "source": [
    "Gmask = (df['Rating'] == 'G');\n",
    "PGmask = (df['Rating'] == 'PG');\n",
    "PG13mask = (df['Rating'] == 'PG-13');\n",
    "Rmask = (df['Rating'] == 'R') "
   ]
  },
  {
   "cell_type": "code",
   "execution_count": 29,
   "metadata": {},
   "outputs": [
    {
     "data": {
      "text/plain": [
       "Text(0.5, 1.0, 'R Movies')"
      ]
     },
     "execution_count": 29,
     "metadata": {},
     "output_type": "execute_result"
    },
    {
     "data": {
      "image/png": "[encoded data removed]",
      "text/plain": [
       "<Figure size 1008x1008 with 4 Axes>"
      ]
     },
     "metadata": {
      "needs_background": "light"
     },
     "output_type": "display_data"
    }
   ],
   "source": [
    "plt.figure(figsize=[14,14])\n",
    "\n",
    "plt.subplot(2,2,1)\n",
    "sns.scatterplot(data=df[Gmask], x = 'ReleaseDate', y = 'DomesticTotalGross')\n",
    "plt.xlim(734869,735234)\n",
    "plt.xticks(rotation=30)\n",
    "plt.title('G Movies')\n",
    "\n",
    "plt.subplot(2,2,2)\n",
    "sns.scatterplot(data=df[PGmask], x = 'ReleaseDate', y = 'DomesticTotalGross')\n",
    "plt.xlim(734869,735234)\n",
    "plt.xticks(rotation=30)\n",
    "plt.title('PG Movies')\n",
    "\n",
    "plt.subplot(2,2,3)\n",
    "sns.scatterplot(data=df[PG13mask], x = 'ReleaseDate', y = 'DomesticTotalGross')\n",
    "plt.xlim(734869,735234)\n",
    "plt.xticks(rotation=30)\n",
    "plt.title('PG-13 Movies')\n",
    "\n",
    "plt.subplot(2,2,4)\n",
    "sns.scatterplot(data=df[Rmask], x = 'ReleaseDate', y = 'DomesticTotalGross')\n",
    "plt.xlim(734869,735234)\n",
    "plt.xticks(rotation=30)\n",
    "plt.title('R Movies')"
   ]
  },
  {
   "cell_type": "markdown",
   "metadata": {},
   "source": [
    "### Challenge 5  \n",
    "Francis Lawrence"
   ]
  },
  {
   "cell_type": "code",
   "execution_count": 30,
   "metadata": {},
   "outputs": [
    {
     "data": {
      "text/plain": [
       "Director\n",
       "Francis Lawrence             424668047\n",
       "Shane Black                  409013994\n",
       "Chris BuckJennifer Lee       400738009\n",
       "Pierre CoffinChris Renaud    368061265\n",
       "Zack Snyder                  291045518\n",
       "                               ...    \n",
       "Ron Howard                    26947624\n",
       "Andrew Niccol                 26627201\n",
       "Edgar Wright                  26004851\n",
       "Jon LucasScott Moore          25682380\n",
       "Spike Jonze                   25568251\n",
       "Name: DomesticTotalGross, Length: 93, dtype: int64"
      ]
     },
     "execution_count": 30,
     "metadata": {},
     "output_type": "execute_result"
    }
   ],
   "source": [
    "df.groupby('Director').DomesticTotalGross.mean().sort_values(ascending=False)"
   ]
  },
  {
   "cell_type": "markdown",
   "metadata": {},
   "source": [
    "### Challenge 6"
   ]
  },
  {
   "cell_type": "code",
   "execution_count": 44,
   "metadata": {},
   "outputs": [],
   "source": [
    "df_sorted = df.sort_values(by= 'ReleaseDate')"
   ]
  },
  {
   "cell_type": "code",
   "execution_count": 45,
   "metadata": {},
   "outputs": [
    {
     "data": {
      "text/html": [
       "<div>\n",
       "<style scoped>\n",
       "    .dataframe tbody tr th:only-of-type {\n",
       "        vertical-align: middle;\n",
       "    }\n",
       "\n",
       "    .dataframe tbody tr th {\n",
       "        vertical-align: top;\n",
       "    }\n",
       "\n",
       "    .dataframe thead th {\n",
       "        text-align: right;\n",
       "    }\n",
       "</style>\n",
       "<table border=\"1\" class=\"dataframe\">\n",
       "  <thead>\n",
       "    <tr style=\"text-align: right;\">\n",
       "      <th></th>\n",
       "      <th>Title</th>\n",
       "      <th>Budget</th>\n",
       "      <th>DomesticTotalGross</th>\n",
       "      <th>Director</th>\n",
       "      <th>Rating</th>\n",
       "      <th>Runtime</th>\n",
       "      <th>ReleaseDate</th>\n",
       "      <th>Month</th>\n",
       "    </tr>\n",
       "  </thead>\n",
       "  <tbody>\n",
       "    <tr>\n",
       "      <th>83</th>\n",
       "      <td>Texas Chainsaw 3D</td>\n",
       "      <td>NaN</td>\n",
       "      <td>34341945</td>\n",
       "      <td>John Luessenhop</td>\n",
       "      <td>R</td>\n",
       "      <td>92</td>\n",
       "      <td>2013-01-04</td>\n",
       "      <td>January</td>\n",
       "    </tr>\n",
       "    <tr>\n",
       "      <th>76</th>\n",
       "      <td>A Haunted House</td>\n",
       "      <td>2500000.0</td>\n",
       "      <td>40041683</td>\n",
       "      <td>Michael Tiddes</td>\n",
       "      <td>R</td>\n",
       "      <td>80</td>\n",
       "      <td>2013-01-11</td>\n",
       "      <td>January</td>\n",
       "    </tr>\n",
       "    <tr>\n",
       "      <th>70</th>\n",
       "      <td>Gangster Squad</td>\n",
       "      <td>60000000.0</td>\n",
       "      <td>46000903</td>\n",
       "      <td>Ruben Fleischer</td>\n",
       "      <td>R</td>\n",
       "      <td>113</td>\n",
       "      <td>2013-01-11</td>\n",
       "      <td>January</td>\n",
       "    </tr>\n",
       "    <tr>\n",
       "      <th>46</th>\n",
       "      <td>Mama</td>\n",
       "      <td>15000000.0</td>\n",
       "      <td>71628180</td>\n",
       "      <td>Andres Muschietti</td>\n",
       "      <td>PG-13</td>\n",
       "      <td>100</td>\n",
       "      <td>2013-01-18</td>\n",
       "      <td>January</td>\n",
       "    </tr>\n",
       "    <tr>\n",
       "      <th>63</th>\n",
       "      <td>Hansel and Gretel: Witch Hunters</td>\n",
       "      <td>50000000.0</td>\n",
       "      <td>55703475</td>\n",
       "      <td>Tommy Wirkola</td>\n",
       "      <td>R</td>\n",
       "      <td>88</td>\n",
       "      <td>2013-01-25</td>\n",
       "      <td>January</td>\n",
       "    </tr>\n",
       "    <tr>\n",
       "      <th>...</th>\n",
       "      <td>...</td>\n",
       "      <td>...</td>\n",
       "      <td>...</td>\n",
       "      <td>...</td>\n",
       "      <td>...</td>\n",
       "      <td>...</td>\n",
       "      <td>...</td>\n",
       "      <td>...</td>\n",
       "    </tr>\n",
       "    <tr>\n",
       "      <th>59</th>\n",
       "      <td>The Secret Life of Walter Mitty</td>\n",
       "      <td>90000000.0</td>\n",
       "      <td>58236838</td>\n",
       "      <td>Ben Stiller</td>\n",
       "      <td>PG</td>\n",
       "      <td>114</td>\n",
       "      <td>2013-12-25</td>\n",
       "      <td>December</td>\n",
       "    </tr>\n",
       "    <tr>\n",
       "      <th>91</th>\n",
       "      <td>Grudge Match</td>\n",
       "      <td>40000000.0</td>\n",
       "      <td>29807260</td>\n",
       "      <td>Peter Segal</td>\n",
       "      <td>PG-13</td>\n",
       "      <td>113</td>\n",
       "      <td>2013-12-25</td>\n",
       "      <td>December</td>\n",
       "    </tr>\n",
       "    <tr>\n",
       "      <th>27</th>\n",
       "      <td>The Wolf of Wall Street</td>\n",
       "      <td>100000000.0</td>\n",
       "      <td>116900694</td>\n",
       "      <td>Martin Scorsese</td>\n",
       "      <td>R</td>\n",
       "      <td>180</td>\n",
       "      <td>2013-12-25</td>\n",
       "      <td>December</td>\n",
       "    </tr>\n",
       "    <tr>\n",
       "      <th>23</th>\n",
       "      <td>Lone Survivor</td>\n",
       "      <td>40000000.0</td>\n",
       "      <td>125095601</td>\n",
       "      <td>Peter Berg</td>\n",
       "      <td>R</td>\n",
       "      <td>121</td>\n",
       "      <td>2013-12-25</td>\n",
       "      <td>December</td>\n",
       "    </tr>\n",
       "    <tr>\n",
       "      <th>78</th>\n",
       "      <td>August: Osage County</td>\n",
       "      <td>NaN</td>\n",
       "      <td>37738810</td>\n",
       "      <td>John Wells</td>\n",
       "      <td>R</td>\n",
       "      <td>130</td>\n",
       "      <td>2013-12-27</td>\n",
       "      <td>December</td>\n",
       "    </tr>\n",
       "  </tbody>\n",
       "</table>\n",
       "<p>100 rows × 8 columns</p>\n",
       "</div>"
      ],
      "text/plain": [
       "                               Title       Budget  DomesticTotalGross  \\\n",
       "83                 Texas Chainsaw 3D          NaN            34341945   \n",
       "76                   A Haunted House    2500000.0            40041683   \n",
       "70                    Gangster Squad   60000000.0            46000903   \n",
       "46                              Mama   15000000.0            71628180   \n",
       "63  Hansel and Gretel: Witch Hunters   50000000.0            55703475   \n",
       "..                               ...          ...                 ...   \n",
       "59   The Secret Life of Walter Mitty   90000000.0            58236838   \n",
       "91                      Grudge Match   40000000.0            29807260   \n",
       "27           The Wolf of Wall Street  100000000.0           116900694   \n",
       "23                     Lone Survivor   40000000.0           125095601   \n",
       "78              August: Osage County          NaN            37738810   \n",
       "\n",
       "             Director Rating  Runtime ReleaseDate     Month  \n",
       "83    John Luessenhop      R       92  2013-01-04   January  \n",
       "76     Michael Tiddes      R       80  2013-01-11   January  \n",
       "70    Ruben Fleischer      R      113  2013-01-11   January  \n",
       "46  Andres Muschietti  PG-13      100  2013-01-18   January  \n",
       "63      Tommy Wirkola      R       88  2013-01-25   January  \n",
       "..                ...    ...      ...         ...       ...  \n",
       "59        Ben Stiller     PG      114  2013-12-25  December  \n",
       "91        Peter Segal  PG-13      113  2013-12-25  December  \n",
       "27    Martin Scorsese      R      180  2013-12-25  December  \n",
       "23         Peter Berg      R      121  2013-12-25  December  \n",
       "78         John Wells      R      130  2013-12-27  December  \n",
       "\n",
       "[100 rows x 8 columns]"
      ]
     },
     "execution_count": 45,
     "metadata": {},
     "output_type": "execute_result"
    }
   ],
   "source": [
    "def month_bin(date):\n",
    "    if date.month == 1:\n",
    "        return \"January\"\n",
    "    elif date.month == 2:\n",
    "        return \"February\"\n",
    "    elif date.month == 3:\n",
    "        return \"March\"\n",
    "    elif date.month == 4:\n",
    "        return \"April\"\n",
    "    elif date.month == 5:\n",
    "        return \"May\"\n",
    "    elif date.month == 6:\n",
    "        return \"June\"\n",
    "    elif date.month == 7:\n",
    "        return \"July\"\n",
    "    elif date.month == 8:\n",
    "        return \"August\"\n",
    "    elif date.month == 9:\n",
    "        return \"September\"\n",
    "    elif date.month == 10:\n",
    "        return \"October\"\n",
    "    elif date.month == 11:\n",
    "        return \"November\"\n",
    "    elif date.month == 12:\n",
    "        return \"December\"\n",
    "    else:\n",
    "        return 'NaN'\n",
    "\n",
    "df_sorted['Month'] = df_sorted['ReleaseDate'].apply(month_bin)\n",
    "df_sorted"
   ]
  },
  {
   "cell_type": "code",
   "execution_count": 46,
   "metadata": {},
   "outputs": [
    {
     "data": {
      "text/plain": [
       "(array([ 0,  1,  2,  3,  4,  5,  6,  7,  8,  9, 10, 11]),\n",
       " <a list of 12 Text major ticklabel objects>)"
      ]
     },
     "execution_count": 46,
     "metadata": {},
     "output_type": "execute_result"
    },
    {
     "data": {
      "image/png": "[encoded data removed]",
      "text/plain": [
       "<Figure size 432x288 with 1 Axes>"
      ]
     },
     "metadata": {
      "needs_background": "light"
     },
     "output_type": "display_data"
    }
   ],
   "source": [
    "sns.barplot(data = df_sorted, x = 'Month', y = 'DomesticTotalGross')\n",
    "plt.title('Mean Domestic Total Gross by Month in 2013')\n",
    "plt.xticks(rotation=30)\n"
   ]
  },
  {
   "cell_type": "code",
   "execution_count": null,
   "metadata": {},
   "outputs": [],
   "source": []
  }
 ],
 "metadata": {
  "kernelspec": {
   "display_name": "Python 3",
   "language": "python",
   "name": "python3"
  },
  "language_info": {
   "codemirror_mode": {
    "name": "ipython",
    "version": 3
   },
   "file_extension": ".py",
   "mimetype": "text/x-python",
   "name": "python",
   "nbconvert_exporter": "python",
   "pygments_lexer": "ipython3",
   "version": "3.8.5"
  }
 },
 "nbformat": 4,
 "nbformat_minor": 4
}
